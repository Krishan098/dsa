{
 "cells": [
  {
   "cell_type": "markdown",
   "id": "5a430439",
   "metadata": {},
   "source": [
    "## MergeSort\n",
    "\n",
    "- divide list into two halves\n",
    "- separately sort the left and right half\n",
    "- combine the two sorted halves to get a fully sorted list\n",
    "\n",
    "- combine two sorted lists A and B into a single sorted list C\n",
    "  - compare first elements of A and B\n",
    "  - move the smaller of the two to C\n",
    "  - repeat till you exhaust A and B\n"
   ]
  },
  {
   "cell_type": "markdown",
   "id": "39592686",
   "metadata": {},
   "source": [
    "- Let n be the length of L\n",
    "- Sort A[:n//2]\n",
    "- Sort A[n//2:]\n",
    "- Merge the sorted halves into B\n"
   ]
  },
  {
   "cell_type": "markdown",
   "id": "c8c9d1d1",
   "metadata": {},
   "source": [
    "## Divide and conquer\n",
    "\n",
    "- break up the problem into disjoint parts\n",
    "- solve each part separately\n",
    "- Combine the solutions efficiently\n",
    "\n",
    "##### Combined 2 sorted lists A and B into C\n",
    "\n",
    "- If A is empty, copy B into C\n",
    "- If B is empty, copy A into C\n",
    "- Otherwise compare first elemnts of A and B\n",
    "  - Move the smaller of the two to C\n",
    "- repeat till all elements of A and B have been moved\n"
   ]
  },
  {
   "cell_type": "code",
   "execution_count": 5,
   "id": "44f1c025",
   "metadata": {},
   "outputs": [],
   "source": [
    "def merge(A,B):\n",
    "    (m,n)=(len(A),len(B))\n",
    "    (C,i,j,k)=([],0,0,0)\n",
    "    while k<m+n:\n",
    "        if i==m:\n",
    "            C.extend(B[j:])\n",
    "            k=k+(n-j)\n",
    "        elif j==n:\n",
    "            C.extend(A[i:])\n",
    "            k=k+(n-i)\n",
    "        elif A[i]<B[j]:\n",
    "            C.append(A[i])\n",
    "            (i,k)=(i+1,k+1)\n",
    "        else:\n",
    "            C.append(B[j])\n",
    "            (j,k)=(j+1,k+1)\n",
    "    return (C)"
   ]
  },
  {
   "cell_type": "code",
   "execution_count": null,
   "id": "a0ed340a",
   "metadata": {},
   "outputs": [],
   "source": [
    "def mergesort(A):\n",
    "    n=len(A)\n",
    "    if n<=1:\n",
    "        return(A)\n",
    "    L=mergesort(A[:n//2])\n",
    "    R=mergesort(A[n//2:])\n",
    "    B=merge(L,R)\n",
    "    return(B)\n",
    "    "
   ]
  },
  {
   "cell_type": "code",
   "execution_count": 7,
   "id": "5b317a1e",
   "metadata": {},
   "outputs": [
    {
     "data": {
      "text/plain": [
       "[0, 1, 2, 3, 4, 5, 6, 7, 8, 9]"
      ]
     },
     "execution_count": 7,
     "metadata": {},
     "output_type": "execute_result"
    }
   ],
   "source": [
    "mergesort([9,8,7,6,5,4,3,2,1,0])"
   ]
  },
  {
   "cell_type": "code",
   "execution_count": null,
   "id": "621d8967",
   "metadata": {},
   "outputs": [],
   "source": []
  }
 ],
 "metadata": {
  "kernelspec": {
   "display_name": "dsa",
   "language": "python",
   "name": "python3"
  },
  "language_info": {
   "codemirror_mode": {
    "name": "ipython",
    "version": 3
   },
   "file_extension": ".py",
   "mimetype": "text/x-python",
   "name": "python",
   "nbconvert_exporter": "python",
   "pygments_lexer": "ipython3",
   "version": "3.11.5"
  }
 },
 "nbformat": 4,
 "nbformat_minor": 5
}
