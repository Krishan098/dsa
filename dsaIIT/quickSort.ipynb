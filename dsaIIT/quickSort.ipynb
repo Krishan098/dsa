{
 "cells": [
  {
   "cell_type": "markdown",
   "id": "1be039eb",
   "metadata": {},
   "source": [
    "# QuickSort\n",
    "\n",
    "- required so that we don't need to merge\n",
    "- suppose the median of L is m\n",
    "- move all values <= m to the left half of L and all > values to the right half\n",
    "- recursively sort left and right halves\n",
    "- L is now sorted\n",
    "- no merge required\n"
   ]
  },
  {
   "cell_type": "markdown",
   "id": "0b0c5cd7",
   "metadata": {},
   "source": [
    "- pick some value in L -pivot\n",
    "  - split L with respect to the pivot element\n",
    "- partition L into lower and upper parts with respect to the pivot\n",
    "- move the pivot between the lower and upper partition\n",
    "- recursively sort the two partitions.\n",
    "\n",
    "- scan the list from left to right\n",
    "- four segments: pivot,lower,upper,unclassified\n",
    "- examine the first unclassified element\n",
    "  - if it is larger than the pivot , extend Upper to include this element\n",
    "  - if it is less than or equal to the pivot, exchange with the first lement in Upper. This extends Lower and shifts upper by one position.\n"
   ]
  },
  {
   "cell_type": "markdown",
   "id": "9f3f8146",
   "metadata": {},
   "source": [
    "- pivot is always the first element\n",
    "- maintain 2 indices to mark the end of the Lower and Upper segments\n",
    "- After partitioning, exhange the pivot with the last element of the Lower segment\n"
   ]
  },
  {
   "cell_type": "code",
   "execution_count": 13,
   "id": "17c84f14",
   "metadata": {},
   "outputs": [],
   "source": [
    "def quicksort(L,l,r):\n",
    "    if (r-l)<2:\n",
    "        return (L)\n",
    "    (pivot,lower,upper)=(L[l],l+1,l+1)\n",
    "    for i in range(l+1,r):\n",
    "        if L[i]>pivot:\n",
    "            upper+=1\n",
    "        else:\n",
    "            (L[i],L[lower])=(L[lower],L[i])\n",
    "            (lower,upper)=(lower+1,upper+1)\n",
    "    (L[l],L[lower-1])=(L[lower-1],L[l])\n",
    "    lower-=1\n",
    "    quicksort(L,l,lower)\n",
    "    quicksort(L,lower+1,upper)\n",
    "    return (L)"
   ]
  },
  {
   "cell_type": "code",
   "execution_count": 14,
   "id": "ec963749",
   "metadata": {},
   "outputs": [
    {
     "data": {
      "text/plain": [
       "[1, 2, 2, 3, 3, 4, 5, 6, 7, 8, 9]"
      ]
     },
     "execution_count": 14,
     "metadata": {},
     "output_type": "execute_result"
    }
   ],
   "source": [
    "quicksort([9,8,7,6,5,4,3,3,2,2,1],0,11)"
   ]
  },
  {
   "cell_type": "code",
   "execution_count": null,
   "id": "a7b4d1d9",
   "metadata": {},
   "outputs": [],
   "source": []
  }
 ],
 "metadata": {
  "kernelspec": {
   "display_name": ".venv",
   "language": "python",
   "name": "python3"
  },
  "language_info": {
   "codemirror_mode": {
    "name": "ipython",
    "version": 3
   },
   "file_extension": ".py",
   "mimetype": "text/x-python",
   "name": "python",
   "nbconvert_exporter": "python",
   "pygments_lexer": "ipython3",
   "version": "3.11.5"
  }
 },
 "nbformat": 4,
 "nbformat_minor": 5
}
