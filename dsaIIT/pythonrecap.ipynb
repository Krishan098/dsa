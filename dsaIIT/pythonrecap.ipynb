{
 "cells": [
  {
   "cell_type": "code",
   "execution_count": 1,
   "id": "67c9ab9f",
   "metadata": {},
   "outputs": [
    {
     "data": {
      "text/plain": [
       "'\\ngcd(m,n)-greatest common divisor\\n- Largest k that devides both m and n\\n- gcd(8,12)-4\\n- also hcf - highest common factor\\n\\nCOMPUTING gcd(m,n)\\n- gcd(m,n)<=min(m,n)\\n- compute list of common factors from 1 to min(m,n)\\n- return the last such common factor\\n'"
      ]
     },
     "execution_count": 1,
     "metadata": {},
     "output_type": "execute_result"
    }
   ],
   "source": [
    "'''\n",
    "gcd(m,n)-greatest common divisor\n",
    "- Largest k that devides both m and n\n",
    "- gcd(8,12)-4\n",
    "- also hcf - highest common factor\n",
    "\n",
    "COMPUTING gcd(m,n)\n",
    "- gcd(m,n)<=min(m,n)\n",
    "- compute list of common factors from 1 to min(m,n)\n",
    "- return the last such common factor\n",
    "'''"
   ]
  },
  {
   "cell_type": "code",
   "execution_count": 21,
   "id": "c840bf7e",
   "metadata": {},
   "outputs": [],
   "source": [
    "def gcd(m,n):\n",
    "    #cf=[]\n",
    "    for i in range(1,min(m,n)+1):\n",
    "        if (m%i)==0 and (n%i)==0:\n",
    "            #cf.append(i)\n",
    "            mrcf=i\n",
    "    #return cf[-1]\n",
    "    return mrcf"
   ]
  },
  {
   "cell_type": "code",
   "execution_count": 22,
   "id": "66ec4505",
   "metadata": {},
   "outputs": [
    {
     "data": {
      "text/plain": [
       "5"
      ]
     },
     "execution_count": 22,
     "metadata": {},
     "output_type": "execute_result"
    }
   ],
   "source": [
    "gcd(15,10)"
   ]
  },
  {
   "cell_type": "code",
   "execution_count": 23,
   "id": "7ae7d1e7",
   "metadata": {},
   "outputs": [
    {
     "data": {
      "text/plain": [
       "'\\nChecking primality\\n- Prime number n has exactly 2 factors, 1 and n\\n- 1 is not a prime\\n'"
      ]
     },
     "execution_count": 23,
     "metadata": {},
     "output_type": "execute_result"
    }
   ],
   "source": [
    "'''\n",
    "Checking primality\n",
    "- Prime number n has exactly 2 factors, 1 and n\n",
    "- 1 is not a prime\n",
    "'''\n"
   ]
  },
  {
   "cell_type": "code",
   "execution_count": 65,
   "id": "cbed87e6",
   "metadata": {},
   "outputs": [
    {
     "data": {
      "text/plain": [
       "'\\nTwin primes: p,p+2\\nTwin prime conjencture: There are infinitely many twin primes\\n'"
      ]
     },
     "execution_count": 65,
     "metadata": {},
     "output_type": "execute_result"
    }
   ],
   "source": [
    "def factor(n):\n",
    "    factors=[]\n",
    "    for i in range(1,n+1):\n",
    "        if n%i==0:\n",
    "            factors.append(i)\n",
    "    return factors\n",
    "def isPrime(n):\n",
    "    return (factor(n)==[1,n])\n",
    "def primesupto(m):\n",
    "    p1=[]\n",
    "    for i in range(1,m+1):\n",
    "        if isPrime(i):\n",
    "            p1.append(i)\n",
    "    return(p1)\n",
    "def firstprimes(m):\n",
    "    (count,i,pl)=(0,1,[])\n",
    "    while(count<m):\n",
    "        if isPrime(i):\n",
    "            (count,pl)=(count+1,pl+[i])\n",
    "        i+=1\n",
    "    return(pl)\n",
    "def prime(n):\n",
    "    result=True\n",
    "    for i in range(2,n):\n",
    "        if (n%i==0):\n",
    "            result=False\n",
    "            break\n",
    "    return (result)\n",
    "def primeusingwhile(n):\n",
    "    (result,i)=(True,2)\n",
    "    while(result and (i<n)):\n",
    "        if(n%i)==0:\n",
    "            result=False\n",
    "        i+=1\n",
    "    return (result)\n",
    "\n",
    "import math\n",
    "\n",
    "def primefast(n):\n",
    "    (result,i)=(True,2)\n",
    "    while(result and (i<=math.sqrt(n))):\n",
    "        if (n%i)==0:\n",
    "            result=False\n",
    "        i+=1\n",
    "    return result\n",
    "\n",
    "\n",
    "'''\n",
    "Twin primes: p,p+2\n",
    "Twin prime conjencture: There are infinitely many twin primes\n",
    "'''"
   ]
  },
  {
   "cell_type": "code",
   "execution_count": 64,
   "id": "2dfa3d16",
   "metadata": {},
   "outputs": [
    {
     "data": {
      "text/plain": [
       "False"
      ]
     },
     "execution_count": 64,
     "metadata": {},
     "output_type": "execute_result"
    }
   ],
   "source": [
    "primefast(49)"
   ]
  },
  {
   "cell_type": "code",
   "execution_count": 68,
   "id": "ee71c089",
   "metadata": {},
   "outputs": [],
   "source": [
    "def primediffs(n):\n",
    "    lastprime=2\n",
    "    pd={}\n",
    "    for i in range(3,n+1):\n",
    "        if primefast(i):\n",
    "            d=i-lastprime\n",
    "            lastprime=i\n",
    "            if d in pd.keys():\n",
    "                pd[d]+=1\n",
    "            else:\n",
    "                pd[d]=1\n",
    "    return pd"
   ]
  },
  {
   "cell_type": "code",
   "execution_count": 69,
   "id": "928ccf15",
   "metadata": {},
   "outputs": [
    {
     "data": {
      "text/plain": [
       "{1: 1, 2: 8, 4: 7, 6: 7, 8: 1}"
      ]
     },
     "execution_count": 69,
     "metadata": {},
     "output_type": "execute_result"
    }
   ],
   "source": [
    "primediffs(100)"
   ]
  },
  {
   "cell_type": "code",
   "execution_count": null,
   "id": "e9628f62",
   "metadata": {},
   "outputs": [],
   "source": [
    "def gcd(m,n):\n",
    "    if m ==0 or n==0:\n",
    "        return 0\n",
    "    (a,b)=(max(m,n),min(m,n))\n",
    "    if a%b==0:\n",
    "        return(b)\n",
    "    else:\n",
    "        return (gcd(b,a-b))\n",
    "\n",
    "\n",
    "    "
   ]
  },
  {
   "cell_type": "markdown",
   "id": "a93ffcd1",
   "metadata": {},
   "source": [
    "- suppose n does not divide m\n",
    "- ```sh\n",
    "    m=qn+r\n",
    "  ```\n",
    "- suppose d divides both m and n\n",
    "\n",
    "- ```sh\n",
    "    m=ad;n=bd\n",
    "    m=qn+r-> ad=q(bd)+r\n",
    "  ```\n",
    "- r must be of the form cd\n",
    "\n",
    "# Euclid's algorithm\n",
    "\n",
    "- If n divides m, gcd(m,n)=n\n",
    "- otherwise compute gcd(n,m mod n)\n"
   ]
  },
  {
   "cell_type": "code",
   "execution_count": 77,
   "id": "2625e79f",
   "metadata": {},
   "outputs": [
    {
     "data": {
      "text/plain": [
       "0"
      ]
     },
     "execution_count": 77,
     "metadata": {},
     "output_type": "execute_result"
    }
   ],
   "source": [
    "gcd(81,0)"
   ]
  },
  {
   "cell_type": "code",
   "execution_count": 86,
   "id": "63254766",
   "metadata": {},
   "outputs": [
    {
     "ename": "SyntaxError",
     "evalue": "unmatched '}' (292921793.py, line 2)",
     "output_type": "error",
     "traceback": [
      "  \u001b[36mCell\u001b[39m\u001b[36m \u001b[39m\u001b[32mIn[86]\u001b[39m\u001b[32m, line 2\u001b[39m\n\u001b[31m    \u001b[39m\u001b[31m(a,b)=(max(m,n),min(m,n))}\u001b[39m\n                             ^\n\u001b[31mSyntaxError\u001b[39m\u001b[31m:\u001b[39m unmatched '}'\n"
     ]
    }
   ],
   "source": [
    "def gcdm(m,n):\n",
    "    (a,b)=(max(m,n),min(m,n))}\n",
    "    if a%b==0:\n",
    "        return(b)\n",
    "    else:\n",
    "        return(gcd(b,a%b))"
   ]
  },
  {
   "cell_type": "code",
   "execution_count": 85,
   "id": "1d92a4d4",
   "metadata": {},
   "outputs": [
    {
     "data": {
      "text/plain": [
       "(1, 1)"
      ]
     },
     "execution_count": 85,
     "metadata": {},
     "output_type": "execute_result"
    }
   ],
   "source": [
    "gcdm(832040,514229)"
   ]
  },
  {
   "cell_type": "code",
   "execution_count": null,
   "id": "62efbf3a",
   "metadata": {},
   "outputs": [],
   "source": []
  }
 ],
 "metadata": {
  "kernelspec": {
   "display_name": ".venv",
   "language": "python",
   "name": "python3"
  },
  "language_info": {
   "codemirror_mode": {
    "name": "ipython",
    "version": 3
   },
   "file_extension": ".py",
   "mimetype": "text/x-python",
   "name": "python",
   "nbconvert_exporter": "python",
   "pygments_lexer": "ipython3",
   "version": "3.11.5"
  }
 },
 "nbformat": 4,
 "nbformat_minor": 5
}
