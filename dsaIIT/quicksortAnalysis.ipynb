{
 "cells": [
  {
   "cell_type": "code",
   "execution_count": 19,
   "id": "036aae9b",
   "metadata": {},
   "outputs": [],
   "source": [
    "def quickSort(L,l,r):\n",
    "    if (r-l)<2:\n",
    "        return (L)\n",
    "    (pivot,lower,upper)=(L[l],l+1,l+1)\n",
    "    for i in range(l+1,r):\n",
    "        if L[i]>pivot:\n",
    "            upper+=1\n",
    "        else:\n",
    "            (L[i],L[lower])=(L[lower],L[i])\n",
    "            (lower,upper)=(lower+1,upper+1)\n",
    "    (L[l],L[lower-1])=(L[lower-1],L[l])\n",
    "    lower-=1\n",
    "    quickSort(L,l,lower)\n",
    "    quickSort(L,lower+1,upper)\n",
    "    return (L)\n"
   ]
  },
  {
   "cell_type": "code",
   "execution_count": 21,
   "id": "3c2ca66b",
   "metadata": {},
   "outputs": [
    {
     "data": {
      "text/plain": [
       "[1, 2, 3, 4, 5, 6, 7, 8, 9]"
      ]
     },
     "execution_count": 21,
     "metadata": {},
     "output_type": "execute_result"
    }
   ],
   "source": [
    "quickSort([9,8,7,6,5,4,3,2,1],0,9)\n",
    "# #quicksort([9,8,7,6,5,4,3,3,2,2,1],0,11)"
   ]
  },
  {
   "cell_type": "code",
   "execution_count": 22,
   "id": "059ea5ca",
   "metadata": {},
   "outputs": [],
   "source": [
    "import time\n",
    "\n",
    "class TimerError(Exception):\n",
    "    \"\"\"A custom exception used to report errors in use of Timer class\"\"\"\n",
    "class Timer:\n",
    "    def __init__(self):\n",
    "        self._start_time = None\n",
    "        self._elapsed_time = None\n",
    "\n",
    "    def start(self):\n",
    "        \"\"\"Start a new timer\"\"\"\n",
    "        if self._start_time is not None:\n",
    "            raise TimerError(\"Timer is running. Use .stop()\")\n",
    "        self._start_time = time.perf_counter()\n",
    "\n",
    "    def stop(self):\n",
    "        \"\"\"Stop the timer, calculate elapsed time\"\"\"\n",
    "        if self._start_time is None:\n",
    "            raise TimerError(\"Timer is not running. Use .start()\")\n",
    "        self._elapsed_time = time.perf_counter() - self._start_time\n",
    "        self._start_time = None\n",
    "\n",
    "    def elapsed(self):\n",
    "        \"\"\"Return the elapsed time\"\"\"\n",
    "        if self._elapsed_time is None:\n",
    "            raise TimerError(\"Timer has not been run yet. Use .start() and .stop()\")\n",
    "        return self._elapsed_time\n",
    "\n",
    "    def __str__(self):\n",
    "        \"\"\"Return a string representation of the elapsed time\"\"\"\n",
    "        return f\"{self._elapsed_time:.4f} seconds\" if self._elapsed_time is not None else \"Timer not run yet\"\n"
   ]
  },
  {
   "cell_type": "code",
   "execution_count": 24,
   "id": "51e5df0b",
   "metadata": {},
   "outputs": [
    {
     "name": "stdout",
     "output_type": "stream",
     "text": [
      "random 5.5026 seconds\n"
     ]
    },
    {
     "ename": "RecursionError",
     "evalue": "maximum recursion depth exceeded in comparison",
     "output_type": "error",
     "traceback": [
      "\u001b[31m---------------------------------------------------------------------------\u001b[39m",
      "\u001b[31mRecursionError\u001b[39m                            Traceback (most recent call last)",
      "\u001b[36mCell\u001b[39m\u001b[36m \u001b[39m\u001b[32mIn[24]\u001b[39m\u001b[32m, line 10\u001b[39m\n\u001b[32m      8\u001b[39m tmplist=inputlists[k][:]\n\u001b[32m      9\u001b[39m t.start()\n\u001b[32m---> \u001b[39m\u001b[32m10\u001b[39m \u001b[43mquickSort\u001b[49m\u001b[43m(\u001b[49m\u001b[43mtmplist\u001b[49m\u001b[43m,\u001b[49m\u001b[32;43m0\u001b[39;49m\u001b[43m,\u001b[49m\u001b[38;5;28;43mlen\u001b[39;49m\u001b[43m(\u001b[49m\u001b[43mtmplist\u001b[49m\u001b[43m)\u001b[49m\u001b[43m)\u001b[49m\n\u001b[32m     11\u001b[39m t.stop()\n\u001b[32m     12\u001b[39m \u001b[38;5;28mprint\u001b[39m(k,t)\n",
      "\u001b[36mCell\u001b[39m\u001b[36m \u001b[39m\u001b[32mIn[19]\u001b[39m\u001b[32m, line 14\u001b[39m, in \u001b[36mquickSort\u001b[39m\u001b[34m(L, l, r)\u001b[39m\n\u001b[32m     12\u001b[39m lower-=\u001b[32m1\u001b[39m\n\u001b[32m     13\u001b[39m quickSort(L,l,lower)\n\u001b[32m---> \u001b[39m\u001b[32m14\u001b[39m \u001b[43mquickSort\u001b[49m\u001b[43m(\u001b[49m\u001b[43mL\u001b[49m\u001b[43m,\u001b[49m\u001b[43mlower\u001b[49m\u001b[43m+\u001b[49m\u001b[32;43m1\u001b[39;49m\u001b[43m,\u001b[49m\u001b[43mupper\u001b[49m\u001b[43m)\u001b[49m\n\u001b[32m     15\u001b[39m \u001b[38;5;28;01mreturn\u001b[39;00m (L)\n",
      "\u001b[36mCell\u001b[39m\u001b[36m \u001b[39m\u001b[32mIn[19]\u001b[39m\u001b[32m, line 14\u001b[39m, in \u001b[36mquickSort\u001b[39m\u001b[34m(L, l, r)\u001b[39m\n\u001b[32m     12\u001b[39m lower-=\u001b[32m1\u001b[39m\n\u001b[32m     13\u001b[39m quickSort(L,l,lower)\n\u001b[32m---> \u001b[39m\u001b[32m14\u001b[39m \u001b[43mquickSort\u001b[49m\u001b[43m(\u001b[49m\u001b[43mL\u001b[49m\u001b[43m,\u001b[49m\u001b[43mlower\u001b[49m\u001b[43m+\u001b[49m\u001b[32;43m1\u001b[39;49m\u001b[43m,\u001b[49m\u001b[43mupper\u001b[49m\u001b[43m)\u001b[49m\n\u001b[32m     15\u001b[39m \u001b[38;5;28;01mreturn\u001b[39;00m (L)\n",
      "    \u001b[31m[... skipping similar frames: quickSort at line 14 (2969 times)]\u001b[39m\n",
      "\u001b[36mCell\u001b[39m\u001b[36m \u001b[39m\u001b[32mIn[19]\u001b[39m\u001b[32m, line 14\u001b[39m, in \u001b[36mquickSort\u001b[39m\u001b[34m(L, l, r)\u001b[39m\n\u001b[32m     12\u001b[39m lower-=\u001b[32m1\u001b[39m\n\u001b[32m     13\u001b[39m quickSort(L,l,lower)\n\u001b[32m---> \u001b[39m\u001b[32m14\u001b[39m \u001b[43mquickSort\u001b[49m\u001b[43m(\u001b[49m\u001b[43mL\u001b[49m\u001b[43m,\u001b[49m\u001b[43mlower\u001b[49m\u001b[43m+\u001b[49m\u001b[32;43m1\u001b[39;49m\u001b[43m,\u001b[49m\u001b[43mupper\u001b[49m\u001b[43m)\u001b[49m\n\u001b[32m     15\u001b[39m \u001b[38;5;28;01mreturn\u001b[39;00m (L)\n",
      "\u001b[36mCell\u001b[39m\u001b[36m \u001b[39m\u001b[32mIn[19]\u001b[39m\u001b[32m, line 5\u001b[39m, in \u001b[36mquickSort\u001b[39m\u001b[34m(L, l, r)\u001b[39m\n\u001b[32m      3\u001b[39m     \u001b[38;5;28;01mreturn\u001b[39;00m (L)\n\u001b[32m      4\u001b[39m (pivot,lower,upper)=(L[l],l+\u001b[32m1\u001b[39m,l+\u001b[32m1\u001b[39m)\n\u001b[32m----> \u001b[39m\u001b[32m5\u001b[39m \u001b[38;5;28;01mfor\u001b[39;00m i \u001b[38;5;129;01min\u001b[39;00m \u001b[38;5;28mrange\u001b[39m(l+\u001b[32m1\u001b[39m,r):\n\u001b[32m      6\u001b[39m     \u001b[38;5;28;01mif\u001b[39;00m L[i]>pivot:\n\u001b[32m      7\u001b[39m         upper+=\u001b[32m1\u001b[39m\n",
      "\u001b[31mRecursionError\u001b[39m: maximum recursion depth exceeded in comparison"
     ]
    }
   ],
   "source": [
    "import random\n",
    "inputlists={}\n",
    "inputlists['random']=[random.randrange(10000000) for i in range(1000000)]\n",
    "inputlists['ascending']=[i for i in range(1000000)]\n",
    "inputlists['descending']=[i for i in range(999999,-1,-1)]\n",
    "t=Timer()\n",
    "for k in inputlists.keys():\n",
    "    tmplist=inputlists[k][:]\n",
    "    t.start()\n",
    "    quickSort(tmplist,0,len(tmplist))\n",
    "    t.stop()\n",
    "    print(k,t)"
   ]
  },
  {
   "cell_type": "code",
   "execution_count": null,
   "id": "ba557396",
   "metadata": {},
   "outputs": [],
   "source": []
  }
 ],
 "metadata": {
  "kernelspec": {
   "display_name": "dsa",
   "language": "python",
   "name": "python3"
  },
  "language_info": {
   "codemirror_mode": {
    "name": "ipython",
    "version": 3
   },
   "file_extension": ".py",
   "mimetype": "text/x-python",
   "name": "python",
   "nbconvert_exporter": "python",
   "pygments_lexer": "ipython3",
   "version": "3.11.5"
  }
 },
 "nbformat": 4,
 "nbformat_minor": 5
}
