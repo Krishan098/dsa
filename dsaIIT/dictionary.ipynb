{
 "cells": [
  {
   "cell_type": "markdown",
   "id": "8ffcbdb7",
   "metadata": {},
   "source": [
    "# Dictionary\n",
    "- a dictionary allows access through arbitrary keys\n",
    "    - a collection of key-value pairs\n",
    "    - random access -- access time is same for all keys\n",
    "\n",
    "- Underlying storage is an array\n",
    "    - given an offset i, find A[i] in constant time\n",
    "- keys have to be mapped to {0,1,....,n-1}\n",
    "    - Given a key k, convert it to an offset i\n",
    "#### Hash Function\n",
    "- h:S->X maps a set of values S to a small range of integers X\n",
    "- Typically |X|<<|S|, so there will be collisions, h(s)=h(s'), s!=s'\n",
    "- A good hash function will minimize collisions "
   ]
  },
  {
   "cell_type": "markdown",
   "id": "9a32a816",
   "metadata": {},
   "source": [
    "## Hash Table\n",
    "- An array A of size n combined with a hash function h\n",
    "- h maps keys to {0,1,...,n-1}\n",
    "- Ideally when we create an entry for key k, A[h(k)] will be unused\n",
    "    - What if there is already a value at that location\n",
    "- Dealing with collisions\n",
    "    \n",
    "    - #### Open Addressing(closed hashing)\n",
    "        - Probe a sequence of alternate slots in the same array\n",
    "    - #### Open Hashing\n",
    "        - Each slot in the array points to a list of values\n",
    "        - Insert into the list for the given slot\n",
    "\n",
    "- Dictionary keys in python must be immutable\n",
    "    - if value changes, hash also changes!"
   ]
  },
  {
   "cell_type": "markdown",
   "id": "932bf669",
   "metadata": {},
   "source": []
  }
 ],
 "metadata": {
  "language_info": {
   "name": "python"
  }
 },
 "nbformat": 4,
 "nbformat_minor": 5
}
