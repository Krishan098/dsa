{
 "cells": [
  {
   "cell_type": "markdown",
   "id": "6fbc621b",
   "metadata": {},
   "source": [
    "# BREADTH FIRST SEARCH\n"
   ]
  },
  {
   "cell_type": "markdown",
   "id": "dc19df92",
   "metadata": {},
   "source": [
    "###### Explore the graph level by level\n",
    "\n",
    "    - First visit vertices one step away\n",
    "    - Then two steps away\n",
    "    - ....\n",
    "\n",
    "###### Each visited vertex has to be explored\n",
    "\n",
    "    - Extend the search to it's neigbours\n",
    "    - do this only once for each vertex\n",
    "\n",
    "###### Maintain information about vertices\n",
    "\n",
    "    - Which vertices have been visited already\n",
    "    - Among these, which are yet to be explored\n"
   ]
  },
  {
   "cell_type": "markdown",
   "id": "83276070",
   "metadata": {},
   "source": [
    "- Assume V={0,1,....,n-1}\n",
    "- visited: V->{True,False} tells us whether v belongs to V has been visited\n",
    "  - Initially, visited(v)=False for all v belongs to V\n",
    "- Maintain a sequence of visited vertices yet be explored\n",
    "  - A queue -- first in, first out\n",
    "  - initially empty\n"
   ]
  },
  {
   "cell_type": "code",
   "execution_count": 1,
   "id": "4685d0a3",
   "metadata": {},
   "outputs": [],
   "source": [
    "class Queue:\n",
    "    def __init__(self):\n",
    "        self.queue=[]\n",
    "    def addq(self,v):\n",
    "        self.queue.append(v)\n",
    "    def delq(self):\n",
    "        v=None\n",
    "        if not self.isempty():\n",
    "            v=self.queue[0]\n",
    "            self.queue=self.queue[1:]\n",
    "        return (v)\n",
    "    def isempty(self):\n",
    "        return(self.queue==[])\n",
    "    def __str__(self):\n",
    "        return(str(self.queue))"
   ]
  },
  {
   "cell_type": "code",
   "execution_count": 3,
   "id": "c6ab28b2",
   "metadata": {},
   "outputs": [
    {
     "name": "stdout",
     "output_type": "stream",
     "text": [
      "[0]\n",
      "[0, 1]\n",
      "[0, 1, 2]\n",
      "False\n",
      "0 [1, 2]\n",
      "1 [2]\n",
      "2 []\n",
      "True\n"
     ]
    }
   ],
   "source": [
    "q=Queue()\n",
    "for i in range(3):\n",
    "    q.addq(i)\n",
    "    print(q)\n",
    "print(q.isempty())\n",
    "for j in range(3):\n",
    "    print(q.delq(),q)\n",
    "print(q.isempty())"
   ]
  },
  {
   "cell_type": "markdown",
   "id": "0d9f06ea",
   "metadata": {},
   "source": [
    "##### Exploring a vertex i\n",
    "\n",
    "    - For each edge(i,j), if visited(j) is False,\n",
    "        - Set visited(j) to True\n",
    "        - Append j to the queue\n"
   ]
  },
  {
   "cell_type": "markdown",
   "id": "99bc99df",
   "metadata": {},
   "source": [
    "- Initially\n",
    "  - visited(v) = false for all v belongs to V\n",
    "  - Queue of vertices to be explored is empty\n",
    "- Start BFS from vertex j\n",
    "  - Set visited(j)=True\n",
    "  - Add j to the queue\n",
    "- Remove and explore vertex i at head of the queue\n",
    "  - for each edge (i,j), if visited(j) is False,\n",
    "    - Set visited(j) to True\n",
    "    - Append j to the queue\n",
    "- Stop when queue is empty\n"
   ]
  },
  {
   "cell_type": "code",
   "execution_count": 4,
   "id": "40c8f62a",
   "metadata": {},
   "outputs": [],
   "source": [
    "def neighbours(AMat,i):\n",
    "    nbrs=[]\n",
    "    (rows,cols)=AMat.shape\n",
    "    for i in range(cols):\n",
    "        if AMat[i,j]==1:\n",
    "            nbrs.append(j)\n",
    "    return(nbrs)"
   ]
  },
  {
   "cell_type": "code",
   "execution_count": 7,
   "id": "53d6efab",
   "metadata": {},
   "outputs": [],
   "source": [
    "def BFS(AMat,v):\n",
    "    (rows,cols)=AMat.shape\n",
    "    visited={}\n",
    "    for i in range(rows):\n",
    "        visited[i]=False\n",
    "    q=Queue()\n",
    "    visited[v]=True\n",
    "    q.addq(v)\n",
    "    while(not q.isempty()):\n",
    "        j=q.delq()\n",
    "        for k in neighbours(AMat,j):\n",
    "            if(not visited[k]):\n",
    "                visited[k]=True\n",
    "                q.addq(k)\n",
    "    return (visited)"
   ]
  },
  {
   "cell_type": "markdown",
   "id": "78a60e27",
   "metadata": {},
   "source": [
    "- G=(V,E)\n",
    "  - |V|=n\n",
    "  - |E|=m\n",
    "  - If G is connected, m can vary from n-1 to n(n-1)/2\n",
    "- In BFS each readable vertex is processed exactly once\n",
    "  - Visit the vertex: add to queue\n",
    "  - Explore the vertex: remove from queue\n",
    "  - Visit and explore at most n vertices\n",
    "- Exploring a vertex\n",
    "  - check all outgoing edges\n",
    "  - how long does this take\n",
    "- Adjacency Matrix\n",
    "  - to explore i, scan neighbours(i)\n",
    "  - look up n entries in row i, regardless of degree(i)\n",
    "- adjacency list\n",
    "  - list neighbours(i) is directly available\n",
    "  - time to explore i is degree(i)\n",
    "  - degree varies across vertices\n",
    "- Sum of degrees\n",
    "  - Sum of degrees is 2m\n",
    "  - Each edge (i,j) contributes to degree(i)\n",
    "  - Each edge(i,j) contributes to degree(i) and degree(j)\n",
    "- BFS with adjacency matrix:\n",
    "  - n steps to initialize each vertex\n",
    "  - n steps to explore each vertex\n",
    "  - O(n\\*\\*2)\n",
    "- BFS with adjacency list\n",
    "  - n steps to initialize each vertex\n",
    "  - 2m steps to explore all vertices\n",
    "    - An example of amortized analysis\n",
    "  - Overall time - O(n+m)\n",
    "  - if m <<n\\*\\*2, working with adjacency lists is much more efficient\n",
    "    - This is why we treat m and n as separate parameters\n",
    "  - For graphs , O(m+n) is typically the best possible complexity\n",
    "    - Need to see each vertex and edge at least once\n",
    "    - linear time\n"
   ]
  },
  {
   "cell_type": "markdown",
   "id": "cd294bec",
   "metadata": {},
   "source": [
    "- how do we recover a path from i to k?\n",
    "\n",
    "- visited(k) was set to True when exploring some vertex j\n",
    "\n",
    "- Record parent(k)=j\n",
    "\n",
    "- From k, follow parent links to trace back a path to i\n"
   ]
  },
  {
   "cell_type": "code",
   "execution_count": 8,
   "id": "4e056eec",
   "metadata": {},
   "outputs": [],
   "source": [
    "def BFSListPath(AList,v):\n",
    "    (visited,parent)=({},{})\n",
    "    for i in AList.keys():\n",
    "        visited[i]=False\n",
    "        parent[i]=-1\n",
    "    q=Queue()\n",
    "    visited[v]=True\n",
    "    q.addq(v)\n",
    "    while(not q.isempty()):\n",
    "        j=q.delq()\n",
    "        for k in AList[j]:\n",
    "            if (not visited[k]):\n",
    "                visited[k]=True\n",
    "                parent[k]=j\n",
    "                q.addq(k)\n",
    "    return(visited,parent)"
   ]
  },
  {
   "cell_type": "code",
   "execution_count": null,
   "id": "b3ecadb6",
   "metadata": {},
   "outputs": [],
   "source": [
    "def BFSListPathLevel(AList,v):\n",
    "    (level,parent)=({},{})\n",
    "    for i in AList.keys():\n",
    "        level[i]=-1\n",
    "        parent[i]=-1\n",
    "    q=Queue()\n",
    "    level[v]=0\n",
    "    q.addq(v)\n",
    "    while(not q.isempty()):\n",
    "        j=q.delq()\n",
    "        for k in AList[j]:\n",
    "            if (level[k]==-1):\n",
    "                level[k]=level[j]+1\n",
    "                parent[k]=j\n",
    "                q.addq(k)\n",
    "    return(level,parent)\n",
    "'''\n",
    "BFS explores neighbours level by level\n",
    "By recording the level at which a vertex is visited, we give its distance from the source vertex\n",
    "Instead of visited(j), maintain level(j)\n",
    "'''"
   ]
  }
 ],
 "metadata": {
  "kernelspec": {
   "display_name": "dsa",
   "language": "python",
   "name": "python3"
  },
  "language_info": {
   "codemirror_mode": {
    "name": "ipython",
    "version": 3
   },
   "file_extension": ".py",
   "mimetype": "text/x-python",
   "name": "python",
   "nbconvert_exporter": "python",
   "pygments_lexer": "ipython3",
   "version": "3.11.5"
  }
 },
 "nbformat": 4,
 "nbformat_minor": 5
}
