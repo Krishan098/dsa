{
 "cells": [
  {
   "cell_type": "markdown",
   "id": "58703299",
   "metadata": {},
   "source": [
    "# Sorting\n",
    "\n",
    "##### Helps in\n",
    "\n",
    "- Binary Search\n",
    "- Finding the median\n",
    "- checking for duplicates\n",
    "- building a frequency table of values\n",
    "\n",
    "# Selection Sort\n",
    "\n",
    "- Select the next element in sorted order\n",
    "- Append it to the final sorted list\n",
    "- Avoid using a second list\n",
    "  - Swap the minimum element into the first position\n",
    "  - swap the second minimum element into the second position\n",
    "  - ...\n",
    "\n",
    "1. Go through the list and pick the minimum value\n",
    "2. Put it in the first position\n",
    "3. Look for the second minimum element and put it in the 2nd position.\n"
   ]
  },
  {
   "cell_type": "code",
   "execution_count": 1,
   "id": "e4ef9326",
   "metadata": {},
   "outputs": [],
   "source": [
    "def selection_sort(L):\n",
    "    length=len(L)\n",
    "    if length < 1:\n",
    "        return L\n",
    "    for i in range(length):\n",
    "        mpos=i\n",
    "        for j in range(i+1,length):\n",
    "            if L[j]<L[mpos]:\n",
    "                mpos=j\n",
    "            (L[i],L[mpos])=(L[mpos],L[i])\n",
    "    return(L)\n",
    "    "
   ]
  },
  {
   "cell_type": "code",
   "execution_count": 2,
   "id": "111b9758",
   "metadata": {},
   "outputs": [
    {
     "data": {
      "text/plain": [
       "[0, 1, 4, 4, 6, 8, 23]"
      ]
     },
     "execution_count": 2,
     "metadata": {},
     "output_type": "execute_result"
    }
   ],
   "source": [
    "selection_sort([8,6,4,1,23,4,0])"
   ]
  },
  {
   "cell_type": "code",
   "execution_count": 3,
   "id": "0f84f920",
   "metadata": {},
   "outputs": [],
   "source": [
    "class sorting():\n",
    "    def __init__(self,L):\n",
    "        self.L=L\n",
    "    def selectionSort(self):\n",
    "        n= len(self.L)\n",
    "        if n <1:\n",
    "            return self.L\n",
    "        for i in range(n):\n",
    "            mpos=i\n",
    "            for j in range(mpos+1,n):\n",
    "                if self.L[j]<self.L[mpos]:\n",
    "                    mpos=j\n",
    "                (self.L[i],self.L[mpos])=(self.L[mpos],self.L[i])\n",
    "        return self.L\n",
    "        "
   ]
  },
  {
   "cell_type": "code",
   "execution_count": 4,
   "id": "33368784",
   "metadata": {},
   "outputs": [
    {
     "data": {
      "text/plain": [
       "[4, 5, 6, 7, 8, 9]"
      ]
     },
     "execution_count": 4,
     "metadata": {},
     "output_type": "execute_result"
    }
   ],
   "source": [
    "to_sort=sorting([9,8,7,6,5,4])\n",
    "to_sort.selectionSort()"
   ]
  },
  {
   "cell_type": "markdown",
   "id": "daa844a3",
   "metadata": {},
   "source": [
    "###### intuitive algo\n",
    "\n",
    "- ```sh\n",
    "    O(n**2)\n",
    "  ```\n"
   ]
  },
  {
   "cell_type": "code",
   "execution_count": null,
   "id": "f3bfffe7",
   "metadata": {},
   "outputs": [],
   "source": []
  },
  {
   "cell_type": "code",
   "execution_count": null,
   "metadata": {},
   "outputs": [],
   "source": []
  },
  {
   "cell_type": "code",
   "execution_count": null,
   "id": "ae02e9d9",
   "metadata": {},
   "outputs": [],
   "source": []
  },
  {
   "cell_type": "markdown",
   "id": "efcad1e1",
   "metadata": {},
   "source": []
  }
 ],
 "metadata": {
  "kernelspec": {
   "display_name": "dsa",
   "language": "python",
   "name": "python3"
  },
  "language_info": {
   "codemirror_mode": {
    "name": "ipython",
    "version": 3
   },
   "file_extension": ".py",
   "mimetype": "text/x-python",
   "name": "python",
   "nbconvert_exporter": "python",
   "pygments_lexer": "ipython3",
   "version": "3.11.5"
  }
 },
 "nbformat": 4,
 "nbformat_minor": 5
}
