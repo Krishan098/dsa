{
 "cells": [
  {
   "cell_type": "markdown",
   "id": "1ce885f7",
   "metadata": {},
   "source": [
    "# Classes and objects\n",
    "\n",
    "## Abstract datatype\n",
    "\n",
    "- stores some information\n",
    "- designated functions to manipulate the information\n",
    "- for instance, stack: last-in,first-out,push(),pop()\n",
    "- separate the private implementation from the public specification\n",
    "\n",
    "## Class\n",
    "\n",
    "- template for a data type\n",
    "- how data is stored\n",
    "- how public functions manipulate data\n",
    "\n",
    "## Object\n",
    "\n",
    "- concrete instance of template\n"
   ]
  },
  {
   "cell_type": "code",
   "execution_count": 14,
   "id": "29927a39",
   "metadata": {},
   "outputs": [],
   "source": [
    "import math\n",
    "class Point:\n",
    "    def __init__(self,a=0,b=0):\n",
    "        self.x=a\n",
    "        self.y=b\n",
    "        '''\n",
    "        (r,theta) instead of (x,y)\n",
    "        - r= sqrt(x*x+y*y)\n",
    "        - theta= atan(y/x)\n",
    "        '''\n",
    "        self.r=math.sqrt(a**2+b**2)\n",
    "        if a ==0:\n",
    "            self.theta=math.pi/2\n",
    "        else:\n",
    "            self.theta=math.atan(b/a)\n",
    "    def translate(self,deltax,deltay):\n",
    "        self.x+=deltax\n",
    "        self.y+=deltay\n",
    "        return (self.x,self.y)\n",
    "    def odistance(self):\n",
    "        import math\n",
    "        d=math.sqrt(self.x**2+self.y**2)\n",
    "        return d\n",
    "    def odistanceR(self):\n",
    "        return(self.r)\n",
    "    def translateR(self,deltax,deltay):\n",
    "        '''\n",
    "            Convert (r,theta) to (x,y)\n",
    "            - x= rcos(theta),y=(rsin(theta))\n",
    "            - recompute r,theta from\n",
    "            (x+deltax,y+deltay)\n",
    "        '''\n",
    "        x=self.r*math.cos(self.theta)\n",
    "        y=self.r*math.sin(self.theta)\n",
    "        x+=deltax\n",
    "        y+=deltay\n",
    "        self.r=math.sqrt(x*x+y*y)\n",
    "        if x==0:\n",
    "            self.theta=math.pi/2\n",
    "        else:\n",
    "            self.theta=math.atan(y/x)\n",
    "        return (self.x,self.y)\n",
    "    def __str__(self):\n",
    "        return(\n",
    "            '('+str(self.x)+','\n",
    "            +str(self.y)+')'\n",
    "        )\n",
    "    def __add__(self,p):\n",
    "        return(Point(self.x+p.x,self.y+p.y))"
   ]
  },
  {
   "cell_type": "code",
   "execution_count": 15,
   "id": "3abf763c",
   "metadata": {},
   "outputs": [],
   "source": [
    "p=Point(3,4)\n",
    "q=Point(7,10)"
   ]
  },
  {
   "cell_type": "code",
   "execution_count": 16,
   "id": "7cd1fc14",
   "metadata": {},
   "outputs": [
    {
     "name": "stdout",
     "output_type": "stream",
     "text": [
      "(3,4)\n"
     ]
    }
   ],
   "source": [
    "print(p)"
   ]
  },
  {
   "cell_type": "code",
   "execution_count": 17,
   "id": "91b98392",
   "metadata": {},
   "outputs": [
    {
     "data": {
      "text/plain": [
       "5.0"
      ]
     },
     "execution_count": 17,
     "metadata": {},
     "output_type": "execute_result"
    }
   ],
   "source": [
    "p.odistance()"
   ]
  },
  {
   "cell_type": "code",
   "execution_count": 18,
   "id": "082edc37",
   "metadata": {},
   "outputs": [
    {
     "data": {
      "text/plain": [
       "5.0"
      ]
     },
     "execution_count": 18,
     "metadata": {},
     "output_type": "execute_result"
    }
   ],
   "source": [
    "p.odistanceR()"
   ]
  },
  {
   "cell_type": "code",
   "execution_count": 20,
   "id": "5db46c0f",
   "metadata": {},
   "outputs": [
    {
     "data": {
      "text/plain": [
       "(6, 8)"
      ]
     },
     "execution_count": 20,
     "metadata": {},
     "output_type": "execute_result"
    }
   ],
   "source": [
    "p.translateR(3,4)"
   ]
  },
  {
   "cell_type": "code",
   "execution_count": 21,
   "id": "1b627fa2",
   "metadata": {},
   "outputs": [
    {
     "data": {
      "text/plain": [
       "0.9272952180016122"
      ]
     },
     "execution_count": 21,
     "metadata": {},
     "output_type": "execute_result"
    }
   ],
   "source": [
    "p.theta"
   ]
  },
  {
   "cell_type": "code",
   "execution_count": 22,
   "id": "9a00b3e4",
   "metadata": {},
   "outputs": [
    {
     "data": {
      "text/plain": [
       "10.0"
      ]
     },
     "execution_count": 22,
     "metadata": {},
     "output_type": "execute_result"
    }
   ],
   "source": [
    "p.r"
   ]
  },
  {
   "cell_type": "markdown",
   "id": "a22f66ee",
   "metadata": {},
   "source": [
    "- perf_time() is a performance counter.\n",
    "- call it twice\n",
    "- the interval is meaningful\n"
   ]
  },
  {
   "cell_type": "code",
   "execution_count": 31,
   "id": "ee597d40",
   "metadata": {},
   "outputs": [
    {
     "name": "stdout",
     "output_type": "stream",
     "text": [
      "*\n",
      "**\n",
      "***\n",
      "****\n"
     ]
    },
    {
     "data": {
      "text/plain": [
       "0.0009955000132322311"
      ]
     },
     "execution_count": 31,
     "metadata": {},
     "output_type": "execute_result"
    }
   ],
   "source": [
    "import time\n",
    "start=time.perf_counter()\n",
    "for i in range(1,5):\n",
    "    for j in range(0,i):\n",
    "        print('*',end='')\n",
    "    print()\n",
    "end= time.perf_counter()\n",
    "elapsed=end-start\n",
    "elapsed"
   ]
  },
  {
   "cell_type": "code",
   "execution_count": 32,
   "id": "3cdef6ac",
   "metadata": {},
   "outputs": [],
   "source": [
    "import time\n",
    "class Timer:\n",
    "    def __init__(self):\n",
    "        self._start_time=0\n",
    "        self._elapsed_time=0\n",
    "    def start(self):\n",
    "        self._start_time=time.perf_counter()\n",
    "    def stop(self):\n",
    "        self._elapsed_time=time.perf_counter()-self._start_time\n",
    "    def elapsed(self):\n",
    "        return(self._elapsed_time)\n",
    "        "
   ]
  },
  {
   "cell_type": "code",
   "execution_count": 45,
   "id": "c8fc1022",
   "metadata": {},
   "outputs": [],
   "source": [
    "import time\n",
    "\n",
    "class TimerError(Exception):\n",
    "    \"\"\"A custom exception used to report errors in use of Timer class\"\"\"\n",
    "class Timer:\n",
    "    def __init__(self):\n",
    "        self._start_time = None\n",
    "        self._elapsed_time = None\n",
    "\n",
    "    def start(self):\n",
    "        \"\"\"Start a new timer\"\"\"\n",
    "        if self._start_time is not None:\n",
    "            raise TimerError(\"Timer is running. Use .stop()\")\n",
    "        self._start_time = time.perf_counter()\n",
    "\n",
    "    def stop(self):\n",
    "        \"\"\"Stop the timer, calculate elapsed time\"\"\"\n",
    "        if self._start_time is None:\n",
    "            raise TimerError(\"Timer is not running. Use .start()\")\n",
    "        self._elapsed_time = time.perf_counter() - self._start_time\n",
    "        self._start_time = None\n",
    "\n",
    "    def elapsed(self):\n",
    "        \"\"\"Return the elapsed time\"\"\"\n",
    "        if self._elapsed_time is None:\n",
    "            raise TimerError(\"Timer has not been run yet. Use .start() and .stop()\")\n",
    "        return self._elapsed_time\n",
    "\n",
    "    def __str__(self):\n",
    "        \"\"\"Return a string representation of the elapsed time\"\"\"\n",
    "        return f\"{self._elapsed_time:.4f} seconds\" if self._elapsed_time is not None else \"Timer not run yet\"\n"
   ]
  },
  {
   "cell_type": "code",
   "execution_count": 46,
   "id": "4c8bf8c1",
   "metadata": {},
   "outputs": [
    {
     "name": "stdout",
     "output_type": "stream",
     "text": [
      "4 0.0020 seconds\n",
      "5 0.0149 seconds\n",
      "6 0.1298 seconds\n",
      "7 1.0876 seconds\n",
      "8 16.0046 seconds\n"
     ]
    }
   ],
   "source": [
    "t=Timer()\n",
    "for j in range(4,9):\n",
    "    t.start()\n",
    "    n=0\n",
    "    for i in range(10**j):\n",
    "        n= n+i\n",
    "    t.stop()\n",
    "    print(j,t)"
   ]
  },
  {
   "cell_type": "code",
   "execution_count": null,
   "id": "5572dd24",
   "metadata": {},
   "outputs": [],
   "source": []
  }
 ],
 "metadata": {
  "kernelspec": {
   "display_name": "dsa",
   "language": "python",
   "name": "python3"
  },
  "language_info": {
   "codemirror_mode": {
    "name": "ipython",
    "version": 3
   },
   "file_extension": ".py",
   "mimetype": "text/x-python",
   "name": "python",
   "nbconvert_exporter": "python",
   "pygments_lexer": "ipython3",
   "version": "3.11.5"
  }
 },
 "nbformat": 4,
 "nbformat_minor": 5
}
