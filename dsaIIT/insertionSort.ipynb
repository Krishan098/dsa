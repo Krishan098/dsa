{
 "cells": [
  {
   "cell_type": "markdown",
   "id": "e5875ae2",
   "metadata": {},
   "source": [
    "## Insertion sort\n",
    "\n",
    "- move the first element to a new list\n",
    "\n",
    "- choose the second letter and find its correct position in the sorted list.(less than first than below it , greater;above it)\n",
    "- third element: insert into correct position w.r.t the first two\n",
    "- Do this for the remaining elements.\n"
   ]
  },
  {
   "cell_type": "code",
   "execution_count": null,
   "id": "fa9ce528",
   "metadata": {},
   "outputs": [],
   "source": []
  },
  {
   "cell_type": "markdown",
   "id": "461c2caf",
   "metadata": {},
   "source": [
    "- Assume L[:i] is sorted.\n",
    "- Move L[i] to the correct posiyion.\n"
   ]
  },
  {
   "cell_type": "code",
   "execution_count": 1,
   "id": "bcb20691",
   "metadata": {},
   "outputs": [],
   "source": [
    "def insertionSort(L):\n",
    "    n=len(L)\n",
    "    if n<=1:\n",
    "        return L\n",
    "    for i in range(n):\n",
    "        j=i\n",
    "        while(j>0 and L[j]<L[j-1]):\n",
    "            (L[j],L[j-1])=(L[j-1],L[j])\n",
    "            j=j-1\n",
    "    return(L)\n",
    "            \n",
    "    "
   ]
  },
  {
   "cell_type": "code",
   "execution_count": 2,
   "id": "b3bc9822",
   "metadata": {},
   "outputs": [
    {
     "data": {
      "text/plain": [
       "[1, 2, 3, 4, 5, 6, 7, 8, 9]"
      ]
     },
     "execution_count": 2,
     "metadata": {},
     "output_type": "execute_result"
    }
   ],
   "source": [
    "insertionSort([9,8,7,6,5,4,3,2,1])"
   ]
  },
  {
   "cell_type": "code",
   "execution_count": 3,
   "id": "7907d322",
   "metadata": {},
   "outputs": [],
   "source": [
    "class sorting():\n",
    "    def __init__(self,L):\n",
    "        self.L=L\n",
    "    def insertionSort(self):\n",
    "        n=len(self.L)\n",
    "        if n <2:\n",
    "            return (self.L)\n",
    "        for i in range(n):\n",
    "            j=i\n",
    "            while(j>0 and self.L[j]<self.L[j-1]):\n",
    "                (self.L[j],self.L[j-1])=(self.L[j-1],self.L[j])\n",
    "                j-=1\n",
    "        return(self.L)\n",
    "        \n",
    "    "
   ]
  },
  {
   "cell_type": "code",
   "execution_count": 4,
   "id": "20573567",
   "metadata": {},
   "outputs": [
    {
     "data": {
      "text/plain": [
       "[0, 1, 2, 3, 4, 5, 6, 7, 8, 9]"
      ]
     },
     "execution_count": 4,
     "metadata": {},
     "output_type": "execute_result"
    }
   ],
   "source": [
    "to_sort=sorting([9,8,7,6,5,4,3,2,1,0])\n",
    "to_sort.insertionSort()"
   ]
  },
  {
   "cell_type": "code",
   "execution_count": 5,
   "id": "177c7fee",
   "metadata": {},
   "outputs": [],
   "source": [
    "def insert(L,v):\n",
    "    n=len(L)\n",
    "    if n==0:\n",
    "        return ([v])\n",
    "    if v>=L[-1]:\n",
    "        return(L+[v])\n",
    "    else:\n",
    "        return(insert(L[:-1],v)+L[:-1])\n",
    "def Isort(L):\n",
    "    n=len(L)\n",
    "    if n<2:\n",
    "        return(L)\n",
    "    L=insert(Isort(L[:-1]),L[-1])\n",
    "    return (L)"
   ]
  }
 ],
 "metadata": {
  "kernelspec": {
   "display_name": "dsa",
   "language": "python",
   "name": "python3"
  },
  "language_info": {
   "codemirror_mode": {
    "name": "ipython",
    "version": 3
   },
   "file_extension": ".py",
   "mimetype": "text/x-python",
   "name": "python",
   "nbconvert_exporter": "python",
   "pygments_lexer": "ipython3",
   "version": "3.11.5"
  }
 },
 "nbformat": 4,
 "nbformat_minor": 5
}
