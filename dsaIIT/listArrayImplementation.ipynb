{
 "cells": [
  {
   "cell_type": "code",
   "execution_count": 1,
   "id": "9eae740a",
   "metadata": {},
   "outputs": [],
   "source": [
    "import time\n",
    "\n",
    "class TimerError(Exception):\n",
    "    \"\"\"A custom exception used to report errors in use of Timer class\"\"\"\n",
    "class Timer:\n",
    "    def __init__(self):\n",
    "        self._start_time = None\n",
    "        self._elapsed_time = None\n",
    "\n",
    "    def start(self):\n",
    "        \"\"\"Start a new timer\"\"\"\n",
    "        if self._start_time is not None:\n",
    "            raise TimerError(\"Timer is running. Use .stop()\")\n",
    "        self._start_time = time.perf_counter()\n",
    "\n",
    "    def stop(self):\n",
    "        \"\"\"Stop the timer, calculate elapsed time\"\"\"\n",
    "        if self._start_time is None:\n",
    "            raise TimerError(\"Timer is not running. Use .start()\")\n",
    "        self._elapsed_time = time.perf_counter() - self._start_time\n",
    "        self._start_time = None\n",
    "\n",
    "    def elapsed(self):\n",
    "        \"\"\"Return the elapsed time\"\"\"\n",
    "        if self._elapsed_time is None:\n",
    "            raise TimerError(\"Timer has not been run yet. Use .start() and .stop()\")\n",
    "        return self._elapsed_time\n",
    "\n",
    "    def __str__(self):\n",
    "        \"\"\"Return a string representation of the elapsed time\"\"\"\n",
    "        return f\"{self._elapsed_time:.4f} seconds\" if self._elapsed_time is not None else \"Timer not run yet\"\n"
   ]
  },
  {
   "cell_type": "code",
   "execution_count": 2,
   "id": "dd3c5d40",
   "metadata": {},
   "outputs": [
    {
     "name": "stdout",
     "output_type": "stream",
     "text": [
      "1.8184 seconds\n"
     ]
    }
   ],
   "source": [
    "t=Timer()\n",
    "t.start()\n",
    "l=[]\n",
    "for i in range(10000000):\n",
    "    l.append(i)\n",
    "t.stop()\n",
    "print(t)\n",
    "    "
   ]
  },
  {
   "cell_type": "code",
   "execution_count": 9,
   "id": "e41d8fc7",
   "metadata": {},
   "outputs": [
    {
     "name": "stdout",
     "output_type": "stream",
     "text": [
      "3.9574 seconds\n"
     ]
    }
   ],
   "source": [
    "#t.stop()\n",
    "t.start()\n",
    "l=[]\n",
    "for i in range(100000):\n",
    "    l.insert(0,i)\n",
    "t.stop()\n",
    "print(t)\n"
   ]
  },
  {
   "cell_type": "code",
   "execution_count": 2,
   "id": "267ebdc1",
   "metadata": {},
   "outputs": [],
   "source": [
    "def naiveSearchlist(l,v):\n",
    "    for x in l:\n",
    "        if v==x:\n",
    "            return (True)\n",
    "    return(False)\n",
    "\n",
    "        "
   ]
  },
  {
   "cell_type": "code",
   "execution_count": 15,
   "id": "de291f92",
   "metadata": {},
   "outputs": [],
   "source": [
    "def binarySearchlist(l,v):\n",
    "    if len(l)==0:\n",
    "        return False\n",
    "    mid=len(l)//2\n",
    "    if l[mid]==v:\n",
    "        return True\n",
    "    if l[mid]<v:\n",
    "        return binarySearchlist(l[mid+1:],v)\n",
    "    else:\n",
    "        return binarySearchlist(l[:mid],v)    "
   ]
  },
  {
   "cell_type": "code",
   "execution_count": 16,
   "id": "e53c0654",
   "metadata": {},
   "outputs": [],
   "source": [
    "import numpy as np\n",
    "def naiveSearchArray(v,A,l,r):# can't shrink and grow as it is an array\n",
    "    for i in range(l,r):\n",
    "        if v==A[i]:\n",
    "            return (True)\n",
    "    return (False)"
   ]
  },
  {
   "cell_type": "code",
   "execution_count": 19,
   "id": "683acce6",
   "metadata": {},
   "outputs": [],
   "source": [
    "def binarySearchArray(v,A,l,r):\n",
    "    if (r-l)<=0:\n",
    "        return (False)\n",
    "    m=(l+r)//2\n",
    "    if A[m]==v:\n",
    "        return (True)\n",
    "    if A[m]<v:\n",
    "        return binarySearchArray(v,A,m+1,r)\n",
    "    else:\n",
    "        return binarySearchArray(v,A,l,m)"
   ]
  },
  {
   "cell_type": "code",
   "execution_count": 18,
   "id": "e980deee",
   "metadata": {},
   "outputs": [
    {
     "name": "stdout",
     "output_type": "stream",
     "text": [
      "\n",
      "Naive search list 8.5308 seconds\n",
      "\n",
      "Binary search 1.0726 seconds\n"
     ]
    }
   ],
   "source": [
    "t=Timer()\n",
    "l=list(range(0,100000,2))\n",
    "\n",
    "t.start()\n",
    "for i in range(3001,13000,2):\n",
    "    v=naiveSearchlist(l,i)\n",
    "t.stop()\n",
    "print()\n",
    "print(\"Naive search list\",t)\n",
    "t.start()\n",
    "for i in range(3001,13000,2):\n",
    "    v=binarySearchlist(l,i)\n",
    "t.stop()\n",
    "print()\n",
    "print(\"Binary search\",t)"
   ]
  },
  {
   "cell_type": "code",
   "execution_count": 20,
   "id": "1b93be61",
   "metadata": {},
   "outputs": [
    {
     "name": "stdout",
     "output_type": "stream",
     "text": [
      "\n",
      "Naive search 8.5021 seconds\n",
      "\n",
      "Binary search 0.0729 seconds\n"
     ]
    }
   ],
   "source": [
    "import numpy as np\n",
    "myarray=np.arange(0,100000,2)\n",
    "t=Timer()\n",
    "t.start()\n",
    "for i in range(3001,5000,2):\n",
    "    v=naiveSearchArray(i,myarray,0,np.prod(myarray.shape))\n",
    "t.stop()\n",
    "print()\n",
    "print(\"Naive search\",t)\n",
    "t.start()\n",
    "for i in range(3001,13000,2):\n",
    "    v=binarySearchArray(i,myarray,0,np.prod(myarray.shape))\n",
    "t.stop()\n",
    "print()\n",
    "print(\"Binary search\",t)"
   ]
  },
  {
   "cell_type": "code",
   "execution_count": 21,
   "id": "087ca73f",
   "metadata": {},
   "outputs": [],
   "source": [
    "def selectionSortList(l):\n",
    "    n=len(l)\n",
    "    if n<2:\n",
    "        return (l)\n",
    "    for i in range(n):\n",
    "        mpos=i\n",
    "        for j in range(i+1,n):\n",
    "            if l[j]<l[mpos]:\n",
    "                mpos=j\n",
    "        (l[i],l[mpos])=(l[mpos],l[i])\n",
    "    return (l)"
   ]
  },
  {
   "cell_type": "code",
   "execution_count": 22,
   "id": "7f1709e4",
   "metadata": {},
   "outputs": [],
   "source": [
    "def selectionSortArray(A):\n",
    "    n=np.prod(A.shape)\n",
    "    if n<2:\n",
    "        return A\n",
    "    for i in range(n):\n",
    "        mpos=i\n",
    "        for j in range(i+1,n):\n",
    "            if A[j]<A[mpos]:\n",
    "                mpos=j\n",
    "        (A[i],A[mpos])=(A[mpos],A[i])\n",
    "    return A"
   ]
  },
  {
   "cell_type": "code",
   "execution_count": 23,
   "id": "2662d428",
   "metadata": {},
   "outputs": [
    {
     "name": "stdout",
     "output_type": "stream",
     "text": [
      "ascending 2.8969 seconds\n",
      "descending 3.1333 seconds\n",
      "random 3.0670 seconds\n"
     ]
    }
   ],
   "source": [
    "t=Timer()\n",
    "import random\n",
    "random.seed(2021)\n",
    "inputlists={}\n",
    "inputlists['ascending']=[i for i in range(10000)]\n",
    "inputlists['descending']=[i for i in range(9999,-1,-1)]\n",
    "inputlists['random']=[random.randrange(100000) for i in range(10000)]\n",
    "for k in inputlists.keys():\n",
    "    tmp=inputlists[k][:]\n",
    "    t.start()\n",
    "    selectionSortList(tmp)\n",
    "    t.stop()\n",
    "    print(k,t)"
   ]
  },
  {
   "cell_type": "code",
   "execution_count": 26,
   "id": "f91a75f9",
   "metadata": {},
   "outputs": [
    {
     "name": "stdout",
     "output_type": "stream",
     "text": [
      "ascending 16.1267 seconds\n",
      "descending 17.6478 seconds\n",
      "random 16.7928 seconds\n"
     ]
    }
   ],
   "source": [
    "random.seed(2021)\n",
    "inputarrays={}\n",
    "inputarrays[\"random\"]=np.arange(10000)\n",
    "for i in range(10000):\n",
    "    inputarrays[\"random\"][i]=random.randrange(100000)\n",
    "inputarrays[\"ascending\"]=np.arange(10000)\n",
    "inputarrays['descending']=np.arange(9999,-1,-1)\n",
    "for k in inputlists.keys():\n",
    "    tmp=inputarrays[k][:]\n",
    "    t.start()\n",
    "    selectionSortArray(tmp)\n",
    "    t.stop()\n",
    "    print(k,t)"
   ]
  },
  {
   "cell_type": "code",
   "execution_count": 27,
   "id": "cc7df5cc",
   "metadata": {},
   "outputs": [],
   "source": [
    "def insertionSortList(l):\n",
    "    n=len(l)\n",
    "    if n<2:\n",
    "        return (l)\n",
    "    for i in range(n):\n",
    "        j=i\n",
    "        while(j>0 and l[j]<l[j-1]):\n",
    "            (l[j],l[j-1])=(l[j-1],l[j])\n",
    "            j-=1\n",
    "    return (l)\n",
    "def insertionSortArray(A):\n",
    "    n=np.prod(A.shape)\n",
    "    if n<2:\n",
    "        return (A)\n",
    "    for i in range(n):\n",
    "        j=i\n",
    "        while(j>0 and A[j]<A[j-1]):\n",
    "            (A[j],A[j-1])=(A[j-1],A[j])\n",
    "            j-=1\n",
    "    return (A)    "
   ]
  },
  {
   "cell_type": "code",
   "execution_count": 28,
   "id": "e078b2e8",
   "metadata": {},
   "outputs": [
    {
     "name": "stdout",
     "output_type": "stream",
     "text": [
      "ascending 0.0012 seconds\n",
      "descending 12.3254 seconds\n",
      "random 6.3436 seconds\n"
     ]
    }
   ],
   "source": [
    "t=Timer()\n",
    "import random\n",
    "random.seed(2021)\n",
    "inputlists={}\n",
    "inputlists['ascending']=[i for i in range(10000)]\n",
    "inputlists['descending']=[i for i in range(9999,-1,-1)]\n",
    "inputlists['random']=[random.randrange(100000) for i in range(10000)]\n",
    "for k in inputlists.keys():\n",
    "    tmp=inputlists[k][:]\n",
    "    t.start()\n",
    "    insertionSortList(tmp)\n",
    "    t.stop()\n",
    "    print(k,t)"
   ]
  },
  {
   "cell_type": "code",
   "execution_count": 29,
   "id": "b15ea8f2",
   "metadata": {},
   "outputs": [
    {
     "name": "stdout",
     "output_type": "stream",
     "text": [
      "ascending 0.0037 seconds\n",
      "descending 38.8495 seconds\n",
      "random 18.9331 seconds\n"
     ]
    }
   ],
   "source": [
    "random.seed(2021)\n",
    "inputarrays={}\n",
    "inputarrays[\"random\"]=np.arange(10000)\n",
    "for i in range(10000):\n",
    "    inputarrays[\"random\"][i]=random.randrange(100000)\n",
    "inputarrays[\"ascending\"]=np.arange(10000)\n",
    "inputarrays['descending']=np.arange(9999,-1,-1)\n",
    "for k in inputlists.keys():\n",
    "    tmp=inputarrays[k][:]\n",
    "    t.start()\n",
    "    insertionSortArray(tmp)\n",
    "    t.stop()\n",
    "    print(k,t)"
   ]
  },
  {
   "cell_type": "code",
   "execution_count": 31,
   "id": "c715da14",
   "metadata": {},
   "outputs": [],
   "source": [
    "def mergeList(A,B):\n",
    "    (m,n)=(len(A),len(B))\n",
    "    (C,i,j,k)=([],0,0,0)\n",
    "    while k<m+n:\n",
    "        if i==m:\n",
    "            C.append(B[j])\n",
    "            (j,k)=(j+1,k+1)\n",
    "        elif j==n:\n",
    "            C.append(A[i])\n",
    "            (i,k)=(i+1,k+1)\n",
    "        elif A[i]<B[j]:\n",
    "            C.append(A[i])\n",
    "            (i,k)=(i+1,k+1)\n",
    "        else:\n",
    "            C.append(B[j])\n",
    "            (j,k)=(j+1,k+1)\n",
    "    return C\n",
    "def mergeSortList(L):\n",
    "    n=len(L)\n",
    "    if n<2:\n",
    "        return (L)\n",
    "    left=mergeSortList(L[:n//2])\n",
    "    right=mergeSortList(L[n//2:])\n",
    "    Lsorted=mergeList(left,right)\n",
    "    return (Lsorted)"
   ]
  },
  {
   "cell_type": "code",
   "execution_count": 38,
   "id": "404ebbda",
   "metadata": {},
   "outputs": [],
   "source": [
    "def mergeArray(A,B):\n",
    "    (m,n)=(np.prod(A.shape),np.prod(B.shape))\n",
    "    (C,i,j,k)=(np.zeros(m+n,dtype=int),0,0,0)\n",
    "    while k<m+n:\n",
    "        if i==m:\n",
    "            C[k]=B[j]\n",
    "            (j,k)=(j+1,k+1)\n",
    "        elif j==n:\n",
    "            C[k]=A[i]\n",
    "            (i,k)=(i+1,k+1)\n",
    "        elif A[i]<B[j]:\n",
    "            C[k]=A[i]\n",
    "            (i,k)=(i+1,k+1)\n",
    "        else:\n",
    "            C[k]=B[j]\n",
    "            (j,k)=(j+1,k+1)\n",
    "    return (C)\n",
    "def mergeSortArray(L,l,r):\n",
    "    if r-l<2:\n",
    "        B=np.array(L[l:r])\n",
    "        return B\n",
    "    mid=(l+r)//2\n",
    "    Left=mergeSortArray(L,l,mid)\n",
    "    Right=mergeSortArray(L,mid,r)\n",
    "    B=mergeArray(Left,Right)\n",
    "    return(B)"
   ]
  },
  {
   "cell_type": "code",
   "execution_count": 33,
   "id": "13a7d8df",
   "metadata": {},
   "outputs": [
    {
     "name": "stdout",
     "output_type": "stream",
     "text": [
      "ascending 0.0368 seconds\n",
      "descending 0.0334 seconds\n",
      "random 0.0435 seconds\n"
     ]
    }
   ],
   "source": [
    "t=Timer()\n",
    "import random\n",
    "random.seed(2021)\n",
    "inputlists={}\n",
    "inputlists['ascending']=[i for i in range(10000)]\n",
    "inputlists['descending']=[i for i in range(9999,-1,-1)]\n",
    "inputlists['random']=[random.randrange(100000) for i in range(10000)]\n",
    "for k in inputlists.keys():\n",
    "    tmp=inputlists[k][:]\n",
    "    t.start()\n",
    "    mergeSortList(tmp)\n",
    "    t.stop()\n",
    "    print(k,t)"
   ]
  },
  {
   "cell_type": "code",
   "execution_count": 45,
   "id": "39687d75",
   "metadata": {},
   "outputs": [
    {
     "name": "stdout",
     "output_type": "stream",
     "text": [
      "ascending 29.3954 seconds\n",
      "descending 28.9169 seconds\n",
      "random 31.8805 seconds\n"
     ]
    }
   ],
   "source": [
    "t.stop()\n",
    "random.seed(2021)\n",
    "inputarrays={}\n",
    "inputarrays[\"random\"]=np.arange(1000000)\n",
    "for i in range(1000000):\n",
    "    inputarrays[\"random\"][i]=random.randrange(100000)\n",
    "inputarrays[\"ascending\"]=np.arange(1000000)\n",
    "inputarrays['descending']=np.arange(999999,-1,-1)\n",
    "for k in inputlists.keys():\n",
    "    tmp=inputarrays[k][:]\n",
    "    t.start()\n",
    "    mergeSortArray(tmp,0,1000000)\n",
    "    t.stop()\n",
    "    print(k,t)"
   ]
  },
  {
   "cell_type": "code",
   "execution_count": null,
   "id": "da4a9836",
   "metadata": {},
   "outputs": [],
   "source": []
  }
 ],
 "metadata": {
  "kernelspec": {
   "display_name": ".venv",
   "language": "python",
   "name": "python3"
  },
  "language_info": {
   "codemirror_mode": {
    "name": "ipython",
    "version": 3
   },
   "file_extension": ".py",
   "mimetype": "text/x-python",
   "name": "python",
   "nbconvert_exporter": "python",
   "pygments_lexer": "ipython3",
   "version": "3.11.5"
  }
 },
 "nbformat": 4,
 "nbformat_minor": 5
}
