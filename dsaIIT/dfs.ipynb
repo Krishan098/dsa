{
 "cells": [
  {
   "cell_type": "markdown",
   "id": "7677b48b",
   "metadata": {},
   "source": [
    "# Depth first search\n",
    "\n",
    "- Start from i, visit an unexplored neighbour j\n",
    "- Suspend the exploration of i and explore j instead\n",
    "- Continue till you reach a vertex with no unexplored neighbours\n",
    "- Backtrack to nearest suspended vertex that still has an unexplored neighbour\n",
    "\n",
    "- Suspended vertices are stored in a stack\n",
    "  - Last in, first out\n",
    "  - Most ecently suspended is checked first\n"
   ]
  },
  {
   "cell_type": "code",
   "execution_count": 2,
   "id": "a4e61b04",
   "metadata": {},
   "outputs": [],
   "source": [
    "def neighbours(AMat,i):\n",
    "    nbrs=[]\n",
    "    (rows,cols)=AMat.shape\n",
    "    for i in range(cols):\n",
    "        if AMat[i,j]==1:\n",
    "            nbrs.append(j)\n",
    "    return (nbrs)\n",
    "def DFSInit(AMat):\n",
    "    # Initialization\n",
    "    (rows,cols)=AMat.shape\n",
    "    (visited,parent)=({},{})\n",
    "    for i in range(rows):\n",
    "        visited[i]=False\n",
    "        parent[i]=-1\n",
    "    return (visited,parent)\n",
    "def DFS(AMat,visited,parent,v):\n",
    "    visited[v]=True\n",
    "    for k in neighbours(AMat,v):\n",
    "        if (not visited[k]):\n",
    "            parent[k]=v\n",
    "            (visited,parent)=DFS(AMat,visited,parent,k)\n",
    "    return (visited,parent)"
   ]
  },
  {
   "cell_type": "markdown",
   "id": "cf96f0a1",
   "metadata": {},
   "source": [
    "- DFS is most natural to implement recursively\n",
    "  - For each unvisited neighbour of v, call DFS(v)\n",
    "- No need to maintain a stack\n",
    "  - Recursion implicitly maintains stack\n",
    "  - Separate initialization step\n",
    "- Can make visited and parent global\n",
    "  - Still need to initialize them according to the size of input adjacency matrix/list\n"
   ]
  },
  {
   "cell_type": "code",
   "execution_count": 3,
   "id": "503e1857",
   "metadata": {},
   "outputs": [],
   "source": [
    "(visited,parent)=({},{})\n",
    "def DFSInitGlibal(AMat):\n",
    "    # Initialization\n",
    "    (rows,cols)=AMat.shape\n",
    "    for i in range(rows):\n",
    "        visited[i]=False\n",
    "        parent[i]=-1\n",
    "    return\n",
    "def DFSGlobal(AMat,v):\n",
    "    visited[v]=True\n",
    "    for k in neighbours(AMat,v):\n",
    "        if (not visited[k]):\n",
    "            parent[k]=v\n",
    "            DFSGlobal(AMat,k)\n",
    "    return"
   ]
  },
  {
   "cell_type": "code",
   "execution_count": 4,
   "id": "bb1506f7",
   "metadata": {},
   "outputs": [],
   "source": [
    "def DFSInitList(AList):\n",
    "    # Initialization\n",
    "    (visited,parent)=({},{})\n",
    "    for i in AList.keys():\n",
    "        visited[i]=False\n",
    "        parent[i]=-1\n",
    "    return (visited,parent)\n",
    "def DFSList(AList,visited,parent,v):\n",
    "    visited[v]=True\n",
    "    for k in AList[v]:\n",
    "        if (not visited[k]):\n",
    "            parent[k]=v\n",
    "            (visited,parent)=DFSList(AList,visited,parent,k)\n",
    "    return (visited,parent)"
   ]
  },
  {
   "cell_type": "code",
   "execution_count": 5,
   "id": "e51ff082",
   "metadata": {},
   "outputs": [],
   "source": [
    "(visited,parent)=({},{})\n",
    "def DFSInitListGlobal(AList):\n",
    "    # Initialization\n",
    "    for i in AList.keys():\n",
    "        visited[i]=False\n",
    "        parent[i]=-1\n",
    "    return\n",
    "def DFSListGlobal(AList,v):\n",
    "    visited[v]=True\n",
    "    for k in AList[v]:\n",
    "        if (not visited[k]):\n",
    "            parent[k]=v\n",
    "            DFSListGlobal(AList,k)\n",
    "    return"
   ]
  },
  {
   "cell_type": "markdown",
   "id": "c39b75af",
   "metadata": {},
   "source": [
    "# Complexity of DFS\n",
    "\n",
    "- Like BFS, each vertex is marked and explored once\n",
    "- Exploring vertex v requires scanning all neighbours of v\n",
    "  - O(n) time for adjacency matrix, independent of degree(v)\n",
    "  - degree(v) time for adjacency list\n",
    "    - Total time is O(m) across all vertices\n",
    "- Overall complexity is same as BFS\n",
    "  - O(n\\*\\*2) using adjacency matrix\n",
    "  - O(m+n) using adjacency list\n"
   ]
  },
  {
   "cell_type": "code",
   "execution_count": null,
   "id": "3fa227ec",
   "metadata": {},
   "outputs": [],
   "source": []
  }
 ],
 "metadata": {
  "kernelspec": {
   "display_name": "dsa",
   "language": "python",
   "name": "python3"
  },
  "language_info": {
   "codemirror_mode": {
    "name": "ipython",
    "version": 3
   },
   "file_extension": ".py",
   "mimetype": "text/x-python",
   "name": "python",
   "nbconvert_exporter": "python",
   "pygments_lexer": "ipython3",
   "version": "3.11.5"
  }
 },
 "nbformat": 4,
 "nbformat_minor": 5
}
