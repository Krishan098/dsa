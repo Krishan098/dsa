{
 "cells": [
  {
   "cell_type": "markdown",
   "id": "eb1c28b8",
   "metadata": {},
   "source": [
    "# Binary Search\n",
    "\n",
    "1. sort the list in ascending order\n",
    "\n",
    "2. check if the midpoint is equal to k(item that we are looking for)\n",
    "\n",
    "3. If midpoint==k ; return value found.\n",
    "\n",
    "4. If midpoint!=k, check whether it is less than or greater than k\n",
    "\n",
    "5. If less than k then , discard the values in the left half and look in the right half\n",
    "\n",
    "6. Similarly, if greater than k look in the left half.\n",
    "\n",
    "7. repeat the process until the element is found or the list becomes empty.\n"
   ]
  },
  {
   "cell_type": "code",
   "execution_count": 15,
   "id": "caad3f62",
   "metadata": {},
   "outputs": [],
   "source": [
    "class search():\n",
    "    def __init__(self,k,l):\n",
    "        self.k=k\n",
    "        self.l=sorted(l)\n",
    "    def binary_search(self,l=None):\n",
    "        if l is None:\n",
    "            l = self.l\n",
    "        if not l:\n",
    "            return False\n",
    "        m=len(l)//2\n",
    "        if self.k==l[m]:\n",
    "            return (True)\n",
    "        if self.k<l[m]:\n",
    "            return self.binary_search(l[:m])\n",
    "        else:\n",
    "            return(self.binary_search(l[m+1:]))\n",
    "            \n",
    "            "
   ]
  },
  {
   "cell_type": "code",
   "execution_count": 19,
   "id": "bb6fe4de",
   "metadata": {},
   "outputs": [
    {
     "data": {
      "text/plain": [
       "False"
      ]
     },
     "execution_count": 19,
     "metadata": {},
     "output_type": "execute_result"
    }
   ],
   "source": [
    "to_search=search(10,[9,5,32,55,1,0])\n",
    "to_search.binary_search()"
   ]
  },
  {
   "cell_type": "code",
   "execution_count": 20,
   "id": "ee2775cb",
   "metadata": {},
   "outputs": [],
   "source": [
    "def binary_search(k,l):\n",
    "    if l==[]:\n",
    "        return False\n",
    "    l=sorted(l)\n",
    "    m=len(l)//2\n",
    "    if l[m]==k:\n",
    "        return True\n",
    "    if l[m]>=k:\n",
    "        return binary_search(k,l[:m])\n",
    "    else:\n",
    "        return binary_search(k,l[m+1:])"
   ]
  },
  {
   "cell_type": "code",
   "execution_count": 21,
   "id": "16416146",
   "metadata": {},
   "outputs": [
    {
     "data": {
      "text/plain": [
       "False"
      ]
     },
     "execution_count": 21,
     "metadata": {},
     "output_type": "execute_result"
    }
   ],
   "source": [
    "binary_search(10,[9,3,4,6,2,0,6,5])"
   ]
  },
  {
   "cell_type": "code",
   "execution_count": null,
   "id": "2ba619f2",
   "metadata": {},
   "outputs": [],
   "source": []
  }
 ],
 "metadata": {
  "kernelspec": {
   "display_name": "dsa",
   "language": "python",
   "name": "python3"
  },
  "language_info": {
   "codemirror_mode": {
    "name": "ipython",
    "version": 3
   },
   "file_extension": ".py",
   "mimetype": "text/x-python",
   "name": "python",
   "nbconvert_exporter": "python",
   "pygments_lexer": "ipython3",
   "version": "3.11.5"
  }
 },
 "nbformat": 4,
 "nbformat_minor": 5
}
