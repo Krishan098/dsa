{
 "cells": [
  {
   "cell_type": "markdown",
   "id": "df77292b",
   "metadata": {},
   "source": [
    "# Representing Graphs\n"
   ]
  },
  {
   "cell_type": "markdown",
   "id": "1a8f0b71",
   "metadata": {},
   "source": [
    "### Adjacency Matrix\n",
    "\n",
    "- Let |V|=n\n",
    "  - Assume V={0,1,....n-1}\n",
    "  - Use a table to map actual vertex \"names\" to this set\n",
    "- Edges are now pairs(i,j) where 0<=i, j<n\n",
    "  - Usually assume i!=j, no self loops\n",
    "- Adjacency Matrix\n",
    "  - Rows and columns numbered {0,1,......,n-1}\n",
    "  - A[i,j]=1 if (i,j) belongs to E\n"
   ]
  },
  {
   "cell_type": "code",
   "execution_count": 2,
   "id": "d94149af",
   "metadata": {},
   "outputs": [],
   "source": [
    "import numpy as np\n",
    "edges=[(0,1),(0,4),(1,2),(2,0),(3,4),(3,6),(4,0),(4,3),(4,7),(5,3),(5,7),(6,5),(7,4),(7,8),(8,5),(8,9),(9,8)]\n",
    "A=np.zeros(shape=(10,10))"
   ]
  },
  {
   "cell_type": "code",
   "execution_count": 3,
   "id": "1517a527",
   "metadata": {},
   "outputs": [],
   "source": [
    "for (i,j) in edges:\n",
    "    A[i,j]=1"
   ]
  },
  {
   "cell_type": "code",
   "execution_count": 4,
   "id": "9667a341",
   "metadata": {},
   "outputs": [
    {
     "data": {
      "text/plain": [
       "array([[0., 1., 0., 0., 1., 0., 0., 0., 0., 0.],\n",
       "       [0., 0., 1., 0., 0., 0., 0., 0., 0., 0.],\n",
       "       [1., 0., 0., 0., 0., 0., 0., 0., 0., 0.],\n",
       "       [0., 0., 0., 0., 1., 0., 1., 0., 0., 0.],\n",
       "       [1., 0., 0., 1., 0., 0., 0., 1., 0., 0.],\n",
       "       [0., 0., 0., 1., 0., 0., 0., 1., 0., 0.],\n",
       "       [0., 0., 0., 0., 0., 1., 0., 0., 0., 0.],\n",
       "       [0., 0., 0., 0., 1., 0., 0., 0., 1., 0.],\n",
       "       [0., 0., 0., 0., 0., 1., 0., 0., 0., 1.],\n",
       "       [0., 0., 0., 0., 0., 0., 0., 0., 1., 0.]])"
      ]
     },
     "execution_count": 4,
     "metadata": {},
     "output_type": "execute_result"
    }
   ],
   "source": [
    "A"
   ]
  },
  {
   "cell_type": "markdown",
   "id": "9ea224b3",
   "metadata": {},
   "source": [
    "- Undirected graph\n",
    "  - A[i,j]=A[j,i]=1\n",
    "  - symmetric\n"
   ]
  },
  {
   "cell_type": "markdown",
   "id": "de6c9f34",
   "metadata": {},
   "source": [
    "#### Computing with the adjacency matrix\n",
    "\n",
    "- neighbours of i -- column j with entry 1\n",
    "  - scan row i to identify neighbours of i\n",
    "  - neighbours of 6 are [3,5]\n"
   ]
  },
  {
   "cell_type": "code",
   "execution_count": 6,
   "id": "f7db1a06",
   "metadata": {},
   "outputs": [
    {
     "data": {
      "text/plain": [
       "[4, 8]"
      ]
     },
     "execution_count": 6,
     "metadata": {},
     "output_type": "execute_result"
    }
   ],
   "source": [
    "def neighbours(AMat,i):\n",
    "    nbrs=[]\n",
    "    (rows,columns)=AMat.shape\n",
    "    for j in range(columns):\n",
    "        if AMat[i,j]==1:\n",
    "            nbrs.append(j)\n",
    "    return(nbrs)\n",
    "neighbours(A,7)\n",
    "        "
   ]
  },
  {
   "cell_type": "markdown",
   "id": "0b89ca03",
   "metadata": {},
   "source": [
    "#### Directed graphs\n",
    "\n",
    "- rows represent outgoing edges\n",
    "- Columns represent incoming edges\n",
    "\n",
    "#### Degree of a vertex i\n",
    "\n",
    "- Number of edges incident on i\n",
    "- ffor directed graphs, outdegree and indegree\n",
    "\n",
    "- is o reachable from 9?\n",
    "  - Mark 9 as reachable\n",
    "  - Mark each neighbour of 9 as reachable\n",
    "  - Systematically mark neighbours of marked vertices\n",
    "  - Stop when 0 becomes marked\n",
    "  - If marking process stops without target becoming marked, the target is unreachable\n",
    "  - 2 Primary strategies\n",
    "    - Breadth first search: propagates marks in layers\n",
    "    - Depth first - explores a path till it dies out, then backtrack\n",
    "\n",
    "#### Adjacency lists\n",
    "\n",
    "- Adjacency matrix has many 0's\n",
    "  - size is n\\*\\*2\n",
    "  - undirected graph: |E|<= n(n-1)/2\n",
    "  - Directed graph: |E|<= n(n-1)\n",
    "  - Typically |E| much less than n\\*\\*2\n",
    "\n",
    "##### Adjacency list\n",
    "\n",
    "    - list of neighbours for each vertex\n"
   ]
  },
  {
   "cell_type": "code",
   "execution_count": 9,
   "id": "e2a8d06f",
   "metadata": {},
   "outputs": [
    {
     "name": "stdout",
     "output_type": "stream",
     "text": [
      "{0: [1, 4], 1: [2], 2: [0], 3: [4, 6], 4: [0, 3, 7], 5: [3, 7], 6: [5], 7: [4, 8], 8: [5, 9], 9: [8]}\n"
     ]
    }
   ],
   "source": [
    "AList={}\n",
    "for i in range(10):\n",
    "    AList[i]=[]\n",
    "for (i,j) in edges:\n",
    "    AList[i].append(j)\n",
    "print(AList)"
   ]
  },
  {
   "cell_type": "code",
   "execution_count": null,
   "id": "5181dec6",
   "metadata": {},
   "outputs": [],
   "source": []
  }
 ],
 "metadata": {
  "kernelspec": {
   "display_name": "dsa",
   "language": "python",
   "name": "python3"
  },
  "language_info": {
   "codemirror_mode": {
    "name": "ipython",
    "version": 3
   },
   "file_extension": ".py",
   "mimetype": "text/x-python",
   "name": "python",
   "nbconvert_exporter": "python",
   "pygments_lexer": "ipython3",
   "version": "3.11.5"
  }
 },
 "nbformat": 4,
 "nbformat_minor": 5
}
